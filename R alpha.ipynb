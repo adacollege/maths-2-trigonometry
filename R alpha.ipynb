{
 "cells": [
  {
   "cell_type": "code",
   "execution_count": 1,
   "metadata": {
    "slideshow": {
     "slide_type": "skip"
    }
   },
   "outputs": [],
   "source": [
    "import numpy as np\n",
    "import matplotlib.pyplot as plt\n",
    "from ipywidgets import interact, interactive, FloatSlider, IntSlider, Dropdown\n",
    "plt.xkcd();"
   ]
  },
  {
   "cell_type": "code",
   "execution_count": 2,
   "metadata": {
    "slideshow": {
     "slide_type": "skip"
    }
   },
   "outputs": [],
   "source": [
    "def plotter(a=3, b=4, R=1, alpha=1, func=np.sin):\n",
    "    f, ax = plt.subplots()\n",
    "    f.set_figwidth(12)\n",
    "    f.set_figheight(5)\n",
    "    xs = np.linspace(0,2*np.pi,30)\n",
    "    y1 = a*np.sin(xs)+b*np.cos(xs)\n",
    "    y2 = R*func(xs+alpha)\n",
    "    r = np.ceil(0.6+(a**2+b**2)**0.5)\n",
    "    ax.set_ylim(-r,r)\n",
    "    ax.set_xticks([0,np.pi/2,np.pi,3*np.pi/2,2*np.pi])\n",
    "    ax.set_xticklabels([0,\"$\\dfrac{\\pi}{2}$\",\"$\\pi$\",\"$\\dfrac{3\\pi}{2}$\",\"$2\\pi$\"])\n",
    "    ax.plot(xs,y1,label=\"$y={}\\sin(x)+{}\\cos(x)$\".format(a,b))\n",
    "    ax.plot(xs,y2,label=\"$y={}\\sin(x+{})$\".format(R,alpha))\n",
    "    ax.legend(loc=1)"
   ]
  },
  {
   "cell_type": "markdown",
   "metadata": {
    "slideshow": {
     "slide_type": "slide"
    }
   },
   "source": [
    "## Writing $a\\sin(\\theta)+b\\cos(\\theta)$ in the form  $R\\sin(\\theta+\\alpha)$"
   ]
  },
  {
   "cell_type": "code",
   "execution_count": 3,
   "metadata": {
    "hide_input": true,
    "scrolled": false,
    "slideshow": {
     "slide_type": "-"
    }
   },
   "outputs": [
    {
     "data": {
      "application/vnd.jupyter.widget-view+json": {
       "model_id": "b597f13b5f2d49b2bfc8e22b3a516a80",
       "version_major": 2,
       "version_minor": 0
      },
      "text/plain": [
       "interactive(children=(IntSlider(value=3, continuous_update=False, description='a', max=4, min=-3), IntSlider(v…"
      ]
     },
     "metadata": {},
     "output_type": "display_data"
    }
   ],
   "source": [
    "interact(plotter,\n",
    "         a=IntSlider(value=3,min=-3,max=4,step=1,continuous_update=False),\n",
    "         b=IntSlider(value=4,min=-3,max=4,step=1,continuous_update=False),\n",
    "         func=Dropdown(options=[(\"sin\",np.sin),(\"cos\",np.cos)]),\n",
    "         R=FloatSlider(value=1,min=0,max=6,step=0.01,continuous_update=False),\n",
    "         alpha=FloatSlider(value=0,min=round(-np.pi,2),max=round(np.pi,2),step=0.01,continuous_update=False));"
   ]
  }
 ],
 "metadata": {
  "celltoolbar": "Slideshow",
  "kernelspec": {
   "display_name": "Python 3",
   "language": "python",
   "name": "python3"
  },
  "language_info": {
   "codemirror_mode": {
    "name": "ipython",
    "version": 3
   },
   "file_extension": ".py",
   "mimetype": "text/x-python",
   "name": "python",
   "nbconvert_exporter": "python",
   "pygments_lexer": "ipython3",
   "version": "3.6.8"
  }
 },
 "nbformat": 4,
 "nbformat_minor": 2
}
