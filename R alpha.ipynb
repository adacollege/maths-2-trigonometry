{
 "cells": [
  {
   "cell_type": "code",
   "execution_count": null,
   "metadata": {
    "slideshow": {
     "slide_type": "skip"
    }
   },
   "outputs": [],
   "source": [
    "import numpy as np\n",
    "import matplotlib.pyplot as plt\n",
    "from ipywidgets import interact, interactive, FloatSlider, IntSlider, Dropdown\n",
    "plt.xkcd();"
   ]
  },
  {
   "cell_type": "code",
   "execution_count": null,
   "metadata": {
    "slideshow": {
     "slide_type": "skip"
    }
   },
   "outputs": [],
   "source": [
    "def plotter(a=3, b=4, R=1, alpha=1, func=\"sin\"):\n",
    "    f, ax = plt.subplots()\n",
    "    f.set_figwidth(12)\n",
    "    f.set_figheight(5)\n",
    "    f.suptitle(\"Writing $a\\sin(\\\\theta)+b\\cos(\\\\theta)$ in the form $R\\{}(\\\\theta+\\\\alpha)$\".format(func))\n",
    "    xs = np.linspace(0,2*np.pi,30)\n",
    "    y1 = a*np.sin(xs)+b*np.cos(xs)\n",
    "    if func == \"sin\":\n",
    "        trigfunc = np.sin\n",
    "    else:\n",
    "        trigfunc = np.cos\n",
    "    y2 = R*trigfunc(xs+alpha)\n",
    "    r = np.ceil(0.6+(a**2+b**2)**0.5)\n",
    "    ax.set_ylim(-r,r)\n",
    "    ax.set_xticks([0,np.pi/2,np.pi,3*np.pi/2,2*np.pi])\n",
    "    ax.set_xticklabels([0,\"$\\dfrac{\\pi}{2}$\",\"$\\pi$\",\"$\\dfrac{3\\pi}{2}$\",\"$2\\pi$\"])\n",
    "    ax.plot(xs,y1,label=\"$y={}\\sin(x)+{}\\cos(x)$\".format(a,b))\n",
    "    ax.plot(xs,y2,label=\"$y={}\\{}(x+{})$\".format(R,func,alpha))\n",
    "    ax.legend(loc=1)"
   ]
  },
  {
   "cell_type": "code",
   "execution_count": null,
   "metadata": {
    "hide_input": false,
    "scrolled": false,
    "slideshow": {
     "slide_type": "slide"
    }
   },
   "outputs": [],
   "source": [
    "interact(plotter,\n",
    "         a=IntSlider(value=3,min=-3,max=4,step=1,continuous_update=False),\n",
    "         b=IntSlider(value=4,min=-3,max=4,step=1,continuous_update=False),\n",
    "         func=Dropdown(options=[(\"sin\",\"sin\"),(\"cos\",\"cos\")]),\n",
    "         R=FloatSlider(value=1,min=0,max=6,step=0.01,continuous_update=False),\n",
    "         alpha=FloatSlider(value=0,min=0,max=round(2*np.pi,2),step=0.01,continuous_update=False));"
   ]
  }
 ],
 "metadata": {
  "celltoolbar": "Slideshow",
  "kernelspec": {
   "display_name": "Python 3",
   "language": "python",
   "name": "python3"
  },
  "language_info": {
   "codemirror_mode": {
    "name": "ipython",
    "version": 3
   },
   "file_extension": ".py",
   "mimetype": "text/x-python",
   "name": "python",
   "nbconvert_exporter": "python",
   "pygments_lexer": "ipython3",
   "version": "3.6.8"
  }
 },
 "nbformat": 4,
 "nbformat_minor": 2
}
