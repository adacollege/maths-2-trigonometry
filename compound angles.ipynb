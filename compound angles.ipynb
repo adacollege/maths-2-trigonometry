{
 "cells": [
  {
   "cell_type": "markdown",
   "metadata": {
    "slideshow": {
     "slide_type": "slide"
    }
   },
   "source": [
    "# Compound Angles\n",
    "\n",
    "Some new trigonometric identities."
   ]
  },
  {
   "cell_type": "markdown",
   "metadata": {
    "slideshow": {
     "slide_type": "subslide"
    }
   },
   "source": [
    "Look at the diagram below. Given that $AD=1$ you can immediately say that $CD=\\sin p$\n",
    "\n",
    "Write expressions for all of the other lengths in the diagram. You might have to identify some angles along the way."
   ]
  },
  {
   "cell_type": "markdown",
   "metadata": {
    "slideshow": {
     "slide_type": "-"
    }
   },
   "source": [
    "<img style='width: 80%' src='./compound angles.png'/>"
   ]
  },
  {
   "cell_type": "markdown",
   "metadata": {
    "slideshow": {
     "slide_type": "subslide"
    }
   },
   "source": [
    "$CD=\\sin p$ and $CA=\\cos p$\n",
    "\n",
    "$CA$ is the hypotenuse of triangle $ABC$\n",
    "\n",
    "So, $AB=\\cos p \\cos q$ and $BC=EF=\\cos p \\sin q$ "
   ]
  },
  {
   "cell_type": "markdown",
   "metadata": {
    "slideshow": {
     "slide_type": "fragment"
    }
   },
   "source": [
    "Angle $CDF=q$ and $CD$ is the hypotenuse of triangle $CFD$\n",
    "\n",
    "So, $DF=\\sin p \\cos q$ and $CF=\\sin p \\sin q=BE$"
   ]
  },
  {
   "cell_type": "markdown",
   "metadata": {
    "slideshow": {
     "slide_type": "subslide"
    }
   },
   "source": [
    "$$AE=AB-AE\\\\\n",
    "\\cos(p+q)=\\cos p \\cos q - \\sin p \\sin q$$"
   ]
  },
  {
   "cell_type": "markdown",
   "metadata": {
    "slideshow": {
     "slide_type": "fragment"
    }
   },
   "source": [
    "$$DE=DF+EF\\\\\n",
    "\\sin(p+q)=\\sin p \\cos q + \\cos p \\sin q$$"
   ]
  },
  {
   "cell_type": "markdown",
   "metadata": {
    "slideshow": {
     "slide_type": "subslide"
    }
   },
   "source": [
    "## Task 1\n",
    "\n",
    "Given the exact values of $\\cos$ and $\\sin$ of $30^\\circ$, $45^\\circ$, $60^\\circ$ and $90^\\circ$, find exact values for\n",
    "\n",
    "1. $\\cos 75^\\circ$ and $\\sin 75^\\circ$\n",
    "1. $\\cos 105^\\circ$ and $\\sin 105^\\circ$\n",
    "1. $\\cos 135^\\circ$ and $\\sin 135^\\circ$"
   ]
  },
  {
   "cell_type": "markdown",
   "metadata": {
    "slideshow": {
     "slide_type": "subslide"
    }
   },
   "source": [
    "## Task 2\n",
    "\n",
    "Use your knowledge of $\\sin$ and $\\cos$ to adapt the identities above to give identities for\n",
    "\n",
    "* $\\cos(p-q)$\n",
    "* $\\sin(p-q)$\n",
    "\n",
    "Use your identities to find exact values for\n",
    "\n",
    "* $\\cos 15^\\circ$ and $\\sin 15^\\circ$"
   ]
  },
  {
   "cell_type": "markdown",
   "metadata": {
    "slideshow": {
     "slide_type": "subslide"
    }
   },
   "source": [
    "## Task 3 - Double angle formulae\n",
    "\n",
    "Use the compound angle formulae with $p=q=\\theta$ to find identities for\n",
    "\n",
    "* $\\sin 2\\theta$\n",
    "* $\\cos 2\\theta$\n",
    "\n",
    "(There is more than one way to express the second identity)\n",
    "\n",
    "Use your identities to find exact values for\n",
    "\n",
    "* $\\cos 210^\\circ$ and $\\sin 210^\\circ$"
   ]
  },
  {
   "cell_type": "markdown",
   "metadata": {
    "slideshow": {
     "slide_type": "subslide"
    }
   },
   "source": [
    "## Extension\n",
    "\n",
    "By writing $3\\theta=2\\theta + \\theta$, find identities for $\\sin 3\\theta$ and $\\cos 3\\theta$.\n",
    "\n",
    "What about $4\\theta$? $5\\theta$?"
   ]
  },
  {
   "cell_type": "markdown",
   "metadata": {
    "slideshow": {
     "slide_type": "slide"
    }
   },
   "source": [
    "### Using `sympy` to check your work"
   ]
  },
  {
   "cell_type": "code",
   "execution_count": 2,
   "metadata": {
    "slideshow": {
     "slide_type": "skip"
    }
   },
   "outputs": [],
   "source": [
    "from sympy import *\n",
    "A, B = symbols('A B')"
   ]
  },
  {
   "cell_type": "code",
   "execution_count": 3,
   "metadata": {
    "slideshow": {
     "slide_type": "-"
    }
   },
   "outputs": [
    {
     "data": {
      "text/plain": [
       "sin(A)*cos(B) + sin(B)*cos(A)"
      ]
     },
     "execution_count": 3,
     "metadata": {},
     "output_type": "execute_result"
    }
   ],
   "source": [
    "expand_trig(sin(A+B))"
   ]
  },
  {
   "cell_type": "code",
   "execution_count": 7,
   "metadata": {
    "slideshow": {
     "slide_type": "-"
    }
   },
   "outputs": [
    {
     "data": {
      "text/plain": [
       "cos(2*A)"
      ]
     },
     "execution_count": 7,
     "metadata": {},
     "output_type": "execute_result"
    }
   ],
   "source": [
    "trigsimp(2*cos(A)**2-1)"
   ]
  },
  {
   "cell_type": "markdown",
   "metadata": {
    "slideshow": {
     "slide_type": "slide"
    }
   },
   "source": [
    "## Task 4 Problem solving\n",
    "\n",
    "[R6807](https://undergroundmathematics.org/trigonometry-compound-angles/r6807/download/question.pdf)\n",
    "\n",
    "[R8648](https://undergroundmathematics.org/trigonometry-compound-angles/r8648/download/question.pdf)\n",
    "\n",
    "[R6696](https://undergroundmathematics.org/trigonometry-compound-angles/r6696/download/question.pdf)\n",
    "\n",
    "[R8713](https://undergroundmathematics.org/trigonometry-compound-angles/r8713/download/question.pdf)\n",
    "\n",
    "[R9740](https://undergroundmathematics.org/trigonometry-compound-angles/r9740/download/question.pdf)"
   ]
  },
  {
   "cell_type": "markdown",
   "metadata": {
    "slideshow": {
     "slide_type": "subslide"
    }
   },
   "source": [
    "## Extension\n",
    "\n",
    "[R8525](https://undergroundmathematics.org/trigonometry-compound-angles/r8525)"
   ]
  },
  {
   "cell_type": "markdown",
   "metadata": {
    "slideshow": {
     "slide_type": "subslide"
    }
   },
   "source": [
    "## Consolidation\n",
    "\n",
    "Notes, exercises and tests from [Trigonometric Identities 1](https://2017.integralmaths.org/course/view.php?id=15&sectionid=426)"
   ]
  }
 ],
 "metadata": {
  "celltoolbar": "Slideshow",
  "kernelspec": {
   "display_name": "Python 3",
   "language": "python",
   "name": "python3"
  },
  "language_info": {
   "codemirror_mode": {
    "name": "ipython",
    "version": 3
   },
   "file_extension": ".py",
   "mimetype": "text/x-python",
   "name": "python",
   "nbconvert_exporter": "python",
   "pygments_lexer": "ipython3",
   "version": "3.6.5"
  }
 },
 "nbformat": 4,
 "nbformat_minor": 2
}
